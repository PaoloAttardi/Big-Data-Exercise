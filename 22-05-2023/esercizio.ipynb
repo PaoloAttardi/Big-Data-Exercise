{
 "cells": [
  {
   "cell_type": "code",
   "execution_count": 13,
   "metadata": {},
   "outputs": [],
   "source": [
    "import pandas as pd\n",
    "\n",
    "df = pd.read_csv('mushrooms.csv')\n",
    "y = df['class']\n",
    "X = df.drop('class', axis=1)\n",
    "\n",
    "map = {\n",
    "    'p' : 1,\n",
    "    'e' : 0\n",
    "}\n",
    "y.replace(map, inplace=True)\n",
    "\n",
    "X = pd.get_dummies(X, columns = X.columns)"
   ]
  },
  {
   "cell_type": "code",
   "execution_count": 15,
   "metadata": {},
   "outputs": [
    {
     "name": "stdout",
     "output_type": "stream",
     "text": [
      "Decision tree: 0.9963058734369079, Logistic Regression: 0.9193427813565744 Dummy: 0.5179714285714285\n"
     ]
    }
   ],
   "source": [
    "from sklearn.model_selection import train_test_split, cross_val_score\n",
    "from sklearn.linear_model import LogisticRegression\n",
    "from sklearn.dummy import DummyClassifier\n",
    "from sklearn.tree import DecisionTreeClassifier\n",
    "X_train, X_test, y_train, y_test = train_test_split(X, y, test_size=1/3)\n",
    "\n",
    "tree = DecisionTreeClassifier()\n",
    "logreg = LogisticRegression()\n",
    "dummy = DummyClassifier()\n",
    "\n",
    "print(f'Decision tree: {cross_val_score(tree, X, y, cv=5).mean()}, Logistic Regression: {cross_val_score(logreg, X, y, cv=5).mean()} Dummy: {cross_val_score(dummy, X, y, cv=5).mean()}')"
   ]
  },
  {
   "cell_type": "code",
   "execution_count": 33,
   "metadata": {},
   "outputs": [
    {
     "name": "stdout",
     "output_type": "stream",
     "text": [
      "Decision tree: 0.872209094353922, Logistic Regression: 0.8470809397499053 Dummy: 0.5179714285714285\n"
     ]
    }
   ],
   "source": [
    "import warnings\n",
    "warnings.filterwarnings('ignore')\n",
    "X1 = df[['cap-color', 'gill-color', 'stalk-color-above-ring', 'stalk-color-below-ring', 'veil-color', 'spore-print-color']]\n",
    "X1 = pd.get_dummies(X1, columns = X1.columns)\n",
    "print(f'Decision tree: {cross_val_score(tree, X1, y, cv=5).mean()}, Logistic Regression: {cross_val_score(logreg, X1, y, cv=5).mean()} Dummy: {cross_val_score(dummy, X1, y, cv=5).mean()}')"
   ]
  },
  {
   "cell_type": "code",
   "execution_count": 29,
   "metadata": {},
   "outputs": [
    {
     "name": "stdout",
     "output_type": "stream",
     "text": [
      "Decision tree: 0.8731943160287988, Logistic Regression: 0.8470809397499053 Dummy: 0.5179714285714285\n"
     ]
    }
   ],
   "source": [
    "from sklearn.preprocessing import OneHotEncoder\n",
    "X2 = df[['cap-color', 'gill-color', 'stalk-color-above-ring', 'stalk-color-below-ring', 'veil-color', 'spore-print-color']]\n",
    "\n",
    "one = OneHotEncoder()\n",
    "mushroom_color = one.fit_transform(X2)\n",
    "encodeddf = pd.DataFrame(mushroom_color.toarray(), columns=one.get_feature_names_out(X2.columns))\n",
    "print(f'Decision tree: {cross_val_score(tree, encodeddf, y, cv=5).mean()}, Logistic Regression: {cross_val_score(logreg, encodeddf, y, cv=5).mean()} Dummy: {cross_val_score(dummy, encodeddf, y, cv=5).mean()}')"
   ]
  },
  {
   "cell_type": "code",
   "execution_count": 42,
   "metadata": {},
   "outputs": [
    {
     "ename": "ValueError",
     "evalue": "columns overlap but no suffix specified: Index(['new column'], dtype='object')",
     "output_type": "error",
     "traceback": [
      "\u001b[1;31m---------------------------------------------------------------------------\u001b[0m",
      "\u001b[1;31mValueError\u001b[0m                                Traceback (most recent call last)",
      "\u001b[1;32mc:\\Users\\Computer\\Documents\\GitHub\\Big-Data-Exercise\\22-05-2023\\esercizio.ipynb Cell 5\u001b[0m in \u001b[0;36m5\n\u001b[0;32m      <a href='vscode-notebook-cell:/c%3A/Users/Computer/Documents/GitHub/Big-Data-Exercise/22-05-2023/esercizio.ipynb#W4sZmlsZQ%3D%3D?line=2'>3</a>\u001b[0m kbest \u001b[39m=\u001b[39m SelectKBest(k\u001b[39m=\u001b[39m\u001b[39m1\u001b[39m)\n\u001b[0;32m      <a href='vscode-notebook-cell:/c%3A/Users/Computer/Documents/GitHub/Big-Data-Exercise/22-05-2023/esercizio.ipynb#W4sZmlsZQ%3D%3D?line=3'>4</a>\u001b[0m newX \u001b[39m=\u001b[39m kbest\u001b[39m.\u001b[39mfit_transform(X, y)\n\u001b[1;32m----> <a href='vscode-notebook-cell:/c%3A/Users/Computer/Documents/GitHub/Big-Data-Exercise/22-05-2023/esercizio.ipynb#W4sZmlsZQ%3D%3D?line=4'>5</a>\u001b[0m X1 \u001b[39m=\u001b[39m X1\u001b[39m.\u001b[39mjoin(pd\u001b[39m.\u001b[39mDataFrame(newX, columns\u001b[39m=\u001b[39m[\u001b[39m'\u001b[39m\u001b[39mnew column\u001b[39m\u001b[39m'\u001b[39m]))\n\u001b[0;32m      <a href='vscode-notebook-cell:/c%3A/Users/Computer/Documents/GitHub/Big-Data-Exercise/22-05-2023/esercizio.ipynb#W4sZmlsZQ%3D%3D?line=5'>6</a>\u001b[0m \u001b[39mprint\u001b[39m(\u001b[39mf\u001b[39m\u001b[39m'\u001b[39m\u001b[39mDecision tree: \u001b[39m\u001b[39m{\u001b[39;00mcross_val_score(tree, X1, y, cv\u001b[39m=\u001b[39m\u001b[39m5\u001b[39m)\u001b[39m.\u001b[39mmean()\u001b[39m}\u001b[39;00m\u001b[39m, Logistic Regression: \u001b[39m\u001b[39m{\u001b[39;00mcross_val_score(logreg, X1, y, cv\u001b[39m=\u001b[39m\u001b[39m5\u001b[39m)\u001b[39m.\u001b[39mmean()\u001b[39m}\u001b[39;00m\u001b[39m Dummy: \u001b[39m\u001b[39m{\u001b[39;00mcross_val_score(dummy, X1, y, cv\u001b[39m=\u001b[39m\u001b[39m5\u001b[39m)\u001b[39m.\u001b[39mmean()\u001b[39m}\u001b[39;00m\u001b[39m'\u001b[39m)\n",
      "File \u001b[1;32m~\\AppData\\Roaming\\Python\\Python310\\site-packages\\pandas\\core\\frame.py:9260\u001b[0m, in \u001b[0;36mDataFrame.join\u001b[1;34m(self, other, on, how, lsuffix, rsuffix, sort)\u001b[0m\n\u001b[0;32m   9106\u001b[0m \u001b[39mdef\u001b[39;00m \u001b[39mjoin\u001b[39m(\n\u001b[0;32m   9107\u001b[0m     \u001b[39mself\u001b[39m,\n\u001b[0;32m   9108\u001b[0m     other: DataFrame \u001b[39m|\u001b[39m Series,\n\u001b[1;32m   (...)\u001b[0m\n\u001b[0;32m   9113\u001b[0m     sort: \u001b[39mbool\u001b[39m \u001b[39m=\u001b[39m \u001b[39mFalse\u001b[39;00m,\n\u001b[0;32m   9114\u001b[0m ) \u001b[39m-\u001b[39m\u001b[39m>\u001b[39m DataFrame:\n\u001b[0;32m   9115\u001b[0m     \u001b[39m\"\"\"\u001b[39;00m\n\u001b[0;32m   9116\u001b[0m \u001b[39m    Join columns of another DataFrame.\u001b[39;00m\n\u001b[0;32m   9117\u001b[0m \n\u001b[1;32m   (...)\u001b[0m\n\u001b[0;32m   9258\u001b[0m \u001b[39m    5  K1  A5   B1\u001b[39;00m\n\u001b[0;32m   9259\u001b[0m \u001b[39m    \"\"\"\u001b[39;00m\n\u001b[1;32m-> 9260\u001b[0m     \u001b[39mreturn\u001b[39;00m \u001b[39mself\u001b[39;49m\u001b[39m.\u001b[39;49m_join_compat(\n\u001b[0;32m   9261\u001b[0m         other, on\u001b[39m=\u001b[39;49mon, how\u001b[39m=\u001b[39;49mhow, lsuffix\u001b[39m=\u001b[39;49mlsuffix, rsuffix\u001b[39m=\u001b[39;49mrsuffix, sort\u001b[39m=\u001b[39;49msort\n\u001b[0;32m   9262\u001b[0m     )\n",
      "File \u001b[1;32m~\\AppData\\Roaming\\Python\\Python310\\site-packages\\pandas\\core\\frame.py:9291\u001b[0m, in \u001b[0;36mDataFrame._join_compat\u001b[1;34m(self, other, on, how, lsuffix, rsuffix, sort)\u001b[0m\n\u001b[0;32m   9282\u001b[0m     \u001b[39mif\u001b[39;00m how \u001b[39m==\u001b[39m \u001b[39m\"\u001b[39m\u001b[39mcross\u001b[39m\u001b[39m\"\u001b[39m:\n\u001b[0;32m   9283\u001b[0m         \u001b[39mreturn\u001b[39;00m merge(\n\u001b[0;32m   9284\u001b[0m             \u001b[39mself\u001b[39m,\n\u001b[0;32m   9285\u001b[0m             other,\n\u001b[1;32m   (...)\u001b[0m\n\u001b[0;32m   9289\u001b[0m             sort\u001b[39m=\u001b[39msort,\n\u001b[0;32m   9290\u001b[0m         )\n\u001b[1;32m-> 9291\u001b[0m     \u001b[39mreturn\u001b[39;00m merge(\n\u001b[0;32m   9292\u001b[0m         \u001b[39mself\u001b[39;49m,\n\u001b[0;32m   9293\u001b[0m         other,\n\u001b[0;32m   9294\u001b[0m         left_on\u001b[39m=\u001b[39;49mon,\n\u001b[0;32m   9295\u001b[0m         how\u001b[39m=\u001b[39;49mhow,\n\u001b[0;32m   9296\u001b[0m         left_index\u001b[39m=\u001b[39;49mon \u001b[39mis\u001b[39;49;00m \u001b[39mNone\u001b[39;49;00m,\n\u001b[0;32m   9297\u001b[0m         right_index\u001b[39m=\u001b[39;49m\u001b[39mTrue\u001b[39;49;00m,\n\u001b[0;32m   9298\u001b[0m         suffixes\u001b[39m=\u001b[39;49m(lsuffix, rsuffix),\n\u001b[0;32m   9299\u001b[0m         sort\u001b[39m=\u001b[39;49msort,\n\u001b[0;32m   9300\u001b[0m     )\n\u001b[0;32m   9301\u001b[0m \u001b[39melse\u001b[39;00m:\n\u001b[0;32m   9302\u001b[0m     \u001b[39mif\u001b[39;00m on \u001b[39mis\u001b[39;00m \u001b[39mnot\u001b[39;00m \u001b[39mNone\u001b[39;00m:\n",
      "File \u001b[1;32m~\\AppData\\Roaming\\Python\\Python310\\site-packages\\pandas\\core\\reshape\\merge.py:122\u001b[0m, in \u001b[0;36mmerge\u001b[1;34m(left, right, how, on, left_on, right_on, left_index, right_index, sort, suffixes, copy, indicator, validate)\u001b[0m\n\u001b[0;32m     90\u001b[0m \u001b[39m@Substitution\u001b[39m(\u001b[39m\"\u001b[39m\u001b[39m\\n\u001b[39;00m\u001b[39mleft : DataFrame or named Series\u001b[39m\u001b[39m\"\u001b[39m)\n\u001b[0;32m     91\u001b[0m \u001b[39m@Appender\u001b[39m(_merge_doc, indents\u001b[39m=\u001b[39m\u001b[39m0\u001b[39m)\n\u001b[0;32m     92\u001b[0m \u001b[39mdef\u001b[39;00m \u001b[39mmerge\u001b[39m(\n\u001b[1;32m   (...)\u001b[0m\n\u001b[0;32m    105\u001b[0m     validate: \u001b[39mstr\u001b[39m \u001b[39m|\u001b[39m \u001b[39mNone\u001b[39;00m \u001b[39m=\u001b[39m \u001b[39mNone\u001b[39;00m,\n\u001b[0;32m    106\u001b[0m ) \u001b[39m-\u001b[39m\u001b[39m>\u001b[39m DataFrame:\n\u001b[0;32m    107\u001b[0m     op \u001b[39m=\u001b[39m _MergeOperation(\n\u001b[0;32m    108\u001b[0m         left,\n\u001b[0;32m    109\u001b[0m         right,\n\u001b[1;32m   (...)\u001b[0m\n\u001b[0;32m    120\u001b[0m         validate\u001b[39m=\u001b[39mvalidate,\n\u001b[0;32m    121\u001b[0m     )\n\u001b[1;32m--> 122\u001b[0m     \u001b[39mreturn\u001b[39;00m op\u001b[39m.\u001b[39;49mget_result()\n",
      "File \u001b[1;32m~\\AppData\\Roaming\\Python\\Python310\\site-packages\\pandas\\core\\reshape\\merge.py:718\u001b[0m, in \u001b[0;36m_MergeOperation.get_result\u001b[1;34m(self)\u001b[0m\n\u001b[0;32m    714\u001b[0m     \u001b[39mself\u001b[39m\u001b[39m.\u001b[39mleft, \u001b[39mself\u001b[39m\u001b[39m.\u001b[39mright \u001b[39m=\u001b[39m \u001b[39mself\u001b[39m\u001b[39m.\u001b[39m_indicator_pre_merge(\u001b[39mself\u001b[39m\u001b[39m.\u001b[39mleft, \u001b[39mself\u001b[39m\u001b[39m.\u001b[39mright)\n\u001b[0;32m    716\u001b[0m join_index, left_indexer, right_indexer \u001b[39m=\u001b[39m \u001b[39mself\u001b[39m\u001b[39m.\u001b[39m_get_join_info()\n\u001b[1;32m--> 718\u001b[0m llabels, rlabels \u001b[39m=\u001b[39m _items_overlap_with_suffix(\n\u001b[0;32m    719\u001b[0m     \u001b[39mself\u001b[39;49m\u001b[39m.\u001b[39;49mleft\u001b[39m.\u001b[39;49m_info_axis, \u001b[39mself\u001b[39;49m\u001b[39m.\u001b[39;49mright\u001b[39m.\u001b[39;49m_info_axis, \u001b[39mself\u001b[39;49m\u001b[39m.\u001b[39;49msuffixes\n\u001b[0;32m    720\u001b[0m )\n\u001b[0;32m    722\u001b[0m lindexers \u001b[39m=\u001b[39m {\u001b[39m1\u001b[39m: left_indexer} \u001b[39mif\u001b[39;00m left_indexer \u001b[39mis\u001b[39;00m \u001b[39mnot\u001b[39;00m \u001b[39mNone\u001b[39;00m \u001b[39melse\u001b[39;00m {}\n\u001b[0;32m    723\u001b[0m rindexers \u001b[39m=\u001b[39m {\u001b[39m1\u001b[39m: right_indexer} \u001b[39mif\u001b[39;00m right_indexer \u001b[39mis\u001b[39;00m \u001b[39mnot\u001b[39;00m \u001b[39mNone\u001b[39;00m \u001b[39melse\u001b[39;00m {}\n",
      "File \u001b[1;32m~\\AppData\\Roaming\\Python\\Python310\\site-packages\\pandas\\core\\reshape\\merge.py:2317\u001b[0m, in \u001b[0;36m_items_overlap_with_suffix\u001b[1;34m(left, right, suffixes)\u001b[0m\n\u001b[0;32m   2314\u001b[0m lsuffix, rsuffix \u001b[39m=\u001b[39m suffixes\n\u001b[0;32m   2316\u001b[0m \u001b[39mif\u001b[39;00m \u001b[39mnot\u001b[39;00m lsuffix \u001b[39mand\u001b[39;00m \u001b[39mnot\u001b[39;00m rsuffix:\n\u001b[1;32m-> 2317\u001b[0m     \u001b[39mraise\u001b[39;00m \u001b[39mValueError\u001b[39;00m(\u001b[39mf\u001b[39m\u001b[39m\"\u001b[39m\u001b[39mcolumns overlap but no suffix specified: \u001b[39m\u001b[39m{\u001b[39;00mto_rename\u001b[39m}\u001b[39;00m\u001b[39m\"\u001b[39m)\n\u001b[0;32m   2319\u001b[0m \u001b[39mdef\u001b[39;00m \u001b[39mrenamer\u001b[39m(x, suffix):\n\u001b[0;32m   2320\u001b[0m     \u001b[39m\"\"\"\u001b[39;00m\n\u001b[0;32m   2321\u001b[0m \u001b[39m    Rename the left and right indices.\u001b[39;00m\n\u001b[0;32m   2322\u001b[0m \n\u001b[1;32m   (...)\u001b[0m\n\u001b[0;32m   2333\u001b[0m \u001b[39m    x : renamed column name\u001b[39;00m\n\u001b[0;32m   2334\u001b[0m \u001b[39m    \"\"\"\u001b[39;00m\n",
      "\u001b[1;31mValueError\u001b[0m: columns overlap but no suffix specified: Index(['new column'], dtype='object')"
     ]
    }
   ],
   "source": [
    "from sklearn.feature_selection import SelectKBest\n",
    "\n",
    "kbest = SelectKBest(k=1)\n",
    "newX = kbest.fit_transform(X, y)\n",
    "X1 = X1.join(pd.DataFrame(newX, columns=['new column']))\n",
    "print(f'Decision tree: {cross_val_score(tree, X1, y, cv=5).mean()}, Logistic Regression: {cross_val_score(logreg, X1, y, cv=5).mean()} Dummy: {cross_val_score(dummy, X1, y, cv=5).mean()}')"
   ]
  },
  {
   "cell_type": "code",
   "execution_count": null,
   "metadata": {},
   "outputs": [],
   "source": []
  }
 ],
 "metadata": {
  "kernelspec": {
   "display_name": "Python 3",
   "language": "python",
   "name": "python3"
  },
  "language_info": {
   "codemirror_mode": {
    "name": "ipython",
    "version": 3
   },
   "file_extension": ".py",
   "mimetype": "text/x-python",
   "name": "python",
   "nbconvert_exporter": "python",
   "pygments_lexer": "ipython3",
   "version": "3.10.5"
  },
  "orig_nbformat": 4
 },
 "nbformat": 4,
 "nbformat_minor": 2
}
